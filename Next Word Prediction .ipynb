{
 "cells": [
  {
   "cell_type": "markdown",
   "id": "117515c7",
   "metadata": {},
   "source": [
    "Next word prediction using the GPT-2 model works by predicting what word is likely to come next in a sentence, based on the words that came before it. GPT-2 (Generative Pretrained Transformer 2) is a type of language model that learns patterns in text data by analyzing large amounts of text. It generates predictions word by word, considering the context of the sentence. For example, if the input is \"The sky is,\" GPT-2 might predict that the next word could be \"blue\" or \"clear\" based on its training on similar sentences."
   ]
  },
  {
   "cell_type": "code",
   "execution_count": 9,
   "id": "2cd88e48",
   "metadata": {},
   "outputs": [
    {
     "name": "stdout",
     "output_type": "stream",
     "text": [
      "I am going to send\n"
     ]
    }
   ],
   "source": [
    "from transformers import pipeline\n",
    "\n",
    "# Load pre-trained model using PyTorch\n",
    "predictor = pipeline('text-generation', model='gpt2', framework='pt')\n",
    "\n",
    "# Predict the next word (or few words)\n",
    "input_text = \"I am going\"\n",
    "predictions = predictor(input_text, max_length=5, num_return_sequences=1, \n",
    "                        truncation=True, pad_token_id=predictor.tokenizer.eos_token_id)\n",
    "\n",
    "print(predictions[0]['generated_text'])"
   ]
  }
 ],
 "metadata": {
  "kernelspec": {
   "display_name": "Python 3 (ipykernel)",
   "language": "python",
   "name": "python3"
  },
  "language_info": {
   "codemirror_mode": {
    "name": "ipython",
    "version": 3
   },
   "file_extension": ".py",
   "mimetype": "text/x-python",
   "name": "python",
   "nbconvert_exporter": "python",
   "pygments_lexer": "ipython3",
   "version": "3.11.3"
  }
 },
 "nbformat": 4,
 "nbformat_minor": 5
}
